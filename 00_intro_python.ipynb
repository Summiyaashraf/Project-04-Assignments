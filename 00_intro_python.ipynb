{
  "nbformat": 4,
  "nbformat_minor": 0,
  "metadata": {
    "colab": {
      "provenance": [],
      "authorship_tag": "ABX9TyPJ/3OvLqFAhylYpY8g4L0o",
      "include_colab_link": true
    },
    "kernelspec": {
      "name": "python3",
      "display_name": "Python 3"
    },
    "language_info": {
      "name": "python"
    }
  },
  "cells": [
    {
      "cell_type": "markdown",
      "metadata": {
        "id": "view-in-github",
        "colab_type": "text"
      },
      "source": [
        "<a href=\"https://colab.research.google.com/github/Summiyaashraf/Project-04-Assignments/blob/main/00_intro_python.ipynb\" target=\"_parent\"><img src=\"https://colab.research.google.com/assets/colab-badge.svg\" alt=\"Open In Colab\"/></a>"
      ]
    },
    {
      "cell_type": "code",
      "execution_count": 1,
      "metadata": {
        "colab": {
          "base_uri": "https://localhost:8080/"
        },
        "id": "m3_VNNIeAd9W",
        "outputId": "7b0ab09a-305c-4562-f3aa-3a04dbef75a4"
      },
      "outputs": [
        {
          "output_type": "stream",
          "name": "stdout",
          "text": [
            "This program adds two numbers.\n",
            "Enter first number: 6\n",
            "Enter second number: 7\n",
            "The total is: 13\n"
          ]
        }
      ],
      "source": [
        "def main():\n",
        "    print(\"This program adds two numbers.\")\n",
        "\n",
        "    num1 = int(input(\"Enter first number: \"))\n",
        "    num2 = int(input(\"Enter second number: \"))\n",
        "\n",
        "    total = num1 + num2\n",
        "    print(\"The total is:\", total)\n",
        "\n",
        "\n",
        "if __name__ == '__main__':\n",
        "    main()\n"
      ]
    },
    {
      "cell_type": "code",
      "source": [
        "def main():\n",
        "    animal = input(\"What's your favorite animal? \")\n",
        "\n",
        "    print(\"My favorite animal is also \" + animal + \"!\")\n",
        "\n",
        "if __name__ == '__main__':\n",
        "    main()\n"
      ],
      "metadata": {
        "colab": {
          "base_uri": "https://localhost:8080/"
        },
        "id": "e0UPY9bgEDhF",
        "outputId": "c4655b47-468e-462a-c5f1-f0567f07678f"
      },
      "execution_count": 2,
      "outputs": [
        {
          "output_type": "stream",
          "name": "stdout",
          "text": [
            "What's your favorite animal? cats\n",
            "My favorite animal is also cats!\n"
          ]
        }
      ]
    },
    {
      "cell_type": "code",
      "source": [
        "def main():\n",
        "\n",
        "    fahrenheit = float(input(\"Enter temperature in Fahrenheit: \"))\n",
        "    celsius = (fahrenheit - 32) * 5.0 / 9.0\n",
        "\n",
        "    print(f\"Temperature: {fahrenheit:.1f}F = {celsius:.6f}C\")\n",
        "\n",
        "if __name__ == '__main__':\n",
        "    main()\n"
      ],
      "metadata": {
        "colab": {
          "base_uri": "https://localhost:8080/"
        },
        "id": "onHlJamBEYxM",
        "outputId": "1679afb8-788f-46bc-cf68-de81480b1fe9"
      },
      "execution_count": 3,
      "outputs": [
        {
          "output_type": "stream",
          "name": "stdout",
          "text": [
            "Enter temperature in Fahrenheit: 76\n",
            "Temperature: 76.0F = 24.444444C\n"
          ]
        }
      ]
    },
    {
      "cell_type": "code",
      "source": [
        "def main():\n",
        "    summiya: int = 21\n",
        "    jamshed: int = summiya + 1\n",
        "    junaid: int = jamshed + 3\n",
        "    alisha: int = junaid + summiya\n",
        "    ayesha: int = junaid\n",
        "\n",
        "    print(\"Summiya is \" + str(summiya))\n",
        "    print(\"Jamshed is \" + str(jamshed))\n",
        "    print(\"Junaid is \" + str(junaid))\n",
        "    print(\"Alisha is \" + str(alisha))\n",
        "    print(\"Ayesha is \" + str(ayesha))\n",
        "\n",
        "if __name__ == '__main__':\n",
        "    main()\n"
      ],
      "metadata": {
        "colab": {
          "base_uri": "https://localhost:8080/"
        },
        "id": "Tf28j09yEwOc",
        "outputId": "db6771e3-4c4b-45c0-b28d-116c3211bd8c"
      },
      "execution_count": 4,
      "outputs": [
        {
          "output_type": "stream",
          "name": "stdout",
          "text": [
            "Summiya is 21\n",
            "Jamshed is 22\n",
            "Junaid is 25\n",
            "Alisha is 46\n",
            "Ayesha is 25\n"
          ]
        }
      ]
    },
    {
      "cell_type": "code",
      "source": [
        "def main():\n",
        "\n",
        "    sideA: float = float(input(\"What is the length of side A? \"))\n",
        "    sideB: float = float(input(\"What is the length of side B? \"))\n",
        "    sideC: float = float(input(\"What is the length of side C? \"))\n",
        "\n",
        "    perimeter: float = sideA + sideB + sideC\n",
        "    print(\"The total perimeter of the triangle is \" + str(perimeter))\n",
        "\n",
        "if __name__ == '__main__':\n",
        "    main()\n"
      ],
      "metadata": {
        "colab": {
          "base_uri": "https://localhost:8080/"
        },
        "id": "RyXg_kA4Ft7O",
        "outputId": "080279dd-3bdf-4f97-a403-01ba72e547ed"
      },
      "execution_count": 5,
      "outputs": [
        {
          "output_type": "stream",
          "name": "stdout",
          "text": [
            "What is the length of side A? 7\n",
            "What is the length of side B? 6\n",
            "What is the length of side C? 5\n",
            "The total perimeter of the triangle is 18.0\n"
          ]
        }
      ]
    },
    {
      "cell_type": "code",
      "source": [
        "def main():\n",
        "    number: float = float(input(\"Enter a number to find its square: \"))\n",
        "    square: float = number ** 2\n",
        "\n",
        "    print(f\"The square of {number} is {square}\")\n",
        "\n",
        "if __name__ == '__main__':\n",
        "    main()\n"
      ],
      "metadata": {
        "colab": {
          "base_uri": "https://localhost:8080/"
        },
        "id": "vjRD1IK2F__C",
        "outputId": "dd0e713f-a377-4293-8ca9-88bca965542d"
      },
      "execution_count": 6,
      "outputs": [
        {
          "output_type": "stream",
          "name": "stdout",
          "text": [
            "Enter a number to find its square: 8\n",
            "The square of 8.0 is 64.0\n"
          ]
        }
      ]
    }
  ]
}