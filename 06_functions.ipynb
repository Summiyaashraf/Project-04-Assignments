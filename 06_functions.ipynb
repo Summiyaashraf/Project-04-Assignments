{
  "nbformat": 4,
  "nbformat_minor": 0,
  "metadata": {
    "colab": {
      "provenance": [],
      "authorship_tag": "ABX9TyO/MBMedzCgOZKoGm4DCWJW",
      "include_colab_link": true
    },
    "kernelspec": {
      "name": "python3",
      "display_name": "Python 3"
    },
    "language_info": {
      "name": "python"
    }
  },
  "cells": [
    {
      "cell_type": "markdown",
      "metadata": {
        "id": "view-in-github",
        "colab_type": "text"
      },
      "source": [
        "<a href=\"https://colab.research.google.com/github/Summiyaashraf/Project-04-Assignments/blob/main/06_functions.ipynb\" target=\"_parent\"><img src=\"https://colab.research.google.com/assets/colab-badge.svg\" alt=\"Open In Colab\"/></a>"
      ]
    },
    {
      "cell_type": "code",
      "execution_count": 1,
      "metadata": {
        "colab": {
          "base_uri": "https://localhost:8080/"
        },
        "id": "bj0eEkRgSIYO",
        "outputId": "5642030c-6310-4923-91ce-ce30aed4bfab"
      },
      "outputs": [
        {
          "output_type": "stream",
          "name": "stdout",
          "text": [
            "avg_1: 5.0\n",
            "avg_2: 9.0\n",
            "final: 7.0\n"
          ]
        }
      ],
      "source": [
        "def average(a: float, b: float):\n",
        "    \"\"\"\n",
        "    Returns the number which is half way between a and b\n",
        "    \"\"\"\n",
        "    return (a + b) / 2\n",
        "\n",
        "def main():\n",
        "    avg_1 = average(0, 10)\n",
        "    avg_2 = average(8, 10)\n",
        "\n",
        "    final = average(avg_1, avg_2)\n",
        "\n",
        "    print(\"avg_1:\", avg_1)\n",
        "    print(\"avg_2:\", avg_2)\n",
        "    print(\"final:\", final)\n",
        "\n",
        "if __name__ == '__main__':\n",
        "    main()\n"
      ]
    },
    {
      "cell_type": "code",
      "source": [
        "import random\n",
        "\n",
        "DONE_LIKELIHOOD = 0.3\n",
        "\n",
        "def done():\n",
        "    \"\"\" 30% chance se True return karega, warna False \"\"\"\n",
        "    return random.random() < DONE_LIKELIHOOD\n",
        "\n",
        "def chaotic_counting():\n",
        "    for i in range(10):\n",
        "        curr_num = i + 1\n",
        "        if done():\n",
        "            return\n",
        "        print(curr_num, end=\" \")\n",
        "\n",
        "def main():\n",
        "    print(\"I'm going to count until 10 or until I feel like stopping, whichever comes first.\")\n",
        "    chaotic_counting()\n",
        "    print(\"\\nI'm done.\")\n",
        "\n",
        "if __name__ == \"__main__\":\n",
        "    main()\n"
      ],
      "metadata": {
        "colab": {
          "base_uri": "https://localhost:8080/"
        },
        "id": "T7TC2I4OUWFJ",
        "outputId": "f216eb3a-501c-4eb3-c326-2024f6077ca5"
      },
      "execution_count": 2,
      "outputs": [
        {
          "output_type": "stream",
          "name": "stdout",
          "text": [
            "I'm going to count until 10 or until I feel like stopping, whichever comes first.\n",
            "1 2 3 \n",
            "I'm done.\n"
          ]
        }
      ]
    },
    {
      "cell_type": "code",
      "source": [
        "def count_even(lst):\n",
        "    \"\"\"\n",
        "    Function 1 list m sy even numbers count karega and unka total print karega.\n",
        "    Example:\n",
        "    >>> count_even([1,2,3,4])\n",
        "    2\n",
        "    >>> count_even([1,3,5,7])\n",
        "    0\n",
        "    \"\"\"\n",
        "    count = 0\n",
        "    for num in lst:\n",
        "        if num % 2 == 0:\n",
        "            count += 1\n",
        "\n",
        "    print(count)\n",
        "\n",
        "def get_list_of_ints():\n",
        "    \"\"\"\n",
        "    Function user sy integers lega jb tk user enter press ni karta.\n",
        "    \"\"\"\n",
        "    lst = []\n",
        "    while True:\n",
        "        user_input = input(\"Enter an integer or press enter to stop: \")\n",
        "        if user_input == \"\":\n",
        "            break\n",
        "        lst.append(int(user_input))\n",
        "\n",
        "    return lst\n",
        "\n",
        "def main():\n",
        "    lst = get_list_of_ints()\n",
        "    count_even(lst)\n",
        "\n",
        "if __name__ == '__main__':\n",
        "    main()\n"
      ],
      "metadata": {
        "colab": {
          "base_uri": "https://localhost:8080/"
        },
        "id": "XvZFYS02U3Br",
        "outputId": "2698d1b9-8b8d-485b-d1f6-cc15848d249f"
      },
      "execution_count": 3,
      "outputs": [
        {
          "output_type": "stream",
          "name": "stdout",
          "text": [
            "Enter an integer or press enter to stop: 7\n",
            "Enter an integer or press enter to stop: 8\n",
            "Enter an integer or press enter to stop: 4\n",
            "Enter an integer or press enter to stop: 9\n",
            "Enter an integer or press enter to stop: \n",
            "2\n"
          ]
        }
      ]
    },
    {
      "cell_type": "code",
      "source": [
        "def double(num: int):\n",
        "    \"\"\"Function 1 number ko 2 sy multiply karega and return karega.\"\"\"\n",
        "    return num * 2\n",
        "\n",
        "def main():\n",
        "    num = int(input(\"Enter a number: \"))\n",
        "    num_times_2 = double(num)\n",
        "    print(\"Double that is\", num_times_2)\n",
        "\n",
        "if __name__ == '__main__':\n",
        "    main()\n"
      ],
      "metadata": {
        "colab": {
          "base_uri": "https://localhost:8080/"
        },
        "id": "F-v3xLbQVdE2",
        "outputId": "046bb26a-d9ed-4a74-825a-f3dd5a75a6aa"
      },
      "execution_count": 4,
      "outputs": [
        {
          "output_type": "stream",
          "name": "stdout",
          "text": [
            "Enter a number: 10\n",
            "Double that is 20\n"
          ]
        }
      ]
    },
    {
      "cell_type": "code",
      "source": [
        "def get_name():\n",
        "    \"\"\"Function 1 fixed name return karega, jo 'Summiya' hai.\"\"\"\n",
        "    return \"Summiya\"\n",
        "\n",
        "def main():\n",
        "    name = get_name()\n",
        "    print(\"Hello\", name, \"! 🤠\")\n",
        "\n",
        "if __name__ == '__main__':\n",
        "    main()\n"
      ],
      "metadata": {
        "colab": {
          "base_uri": "https://localhost:8080/"
        },
        "id": "hdtFFRn4WJFx",
        "outputId": "b808f1ea-523d-4ec7-b7ca-fbea0e6f38cf"
      },
      "execution_count": 6,
      "outputs": [
        {
          "output_type": "stream",
          "name": "stdout",
          "text": [
            "Hello Summiya ! 🤠\n"
          ]
        }
      ]
    },
    {
      "cell_type": "code",
      "source": [
        "def is_odd(value: int):\n",
        "    \"\"\"\n",
        "    Function check karega ky koi value odd hai ya ni.\n",
        "    Agar odd hai to True return karega, warna False.\n",
        "    \"\"\"\n",
        "    return value % 2 == 1\n",
        "\n",
        "def main():\n",
        "    for i in range(10, 20):\n",
        "        if is_odd(i):\n",
        "            print(i, \"odd\")\n",
        "        else:\n",
        "            print(i, \"even\")\n",
        "\n",
        "if __name__ == '__main__':\n",
        "    main()\n"
      ],
      "metadata": {
        "colab": {
          "base_uri": "https://localhost:8080/"
        },
        "id": "IsJ7-tK0WtP3",
        "outputId": "a5d46438-d554-4f80-f8fb-093979d86f4b"
      },
      "execution_count": 7,
      "outputs": [
        {
          "output_type": "stream",
          "name": "stdout",
          "text": [
            "10 even\n",
            "11 odd\n",
            "12 even\n",
            "13 odd\n",
            "14 even\n",
            "15 odd\n",
            "16 even\n",
            "17 odd\n",
            "18 even\n",
            "19 odd\n"
          ]
        }
      ]
    },
    {
      "cell_type": "code",
      "source": [
        "def print_divisors(num: int):\n",
        "    \"\"\"\n",
        "    Function 1 number ky sary divisors ko print karega.\n",
        "    \"\"\"\n",
        "    print(\"Here are the divisors of\", num)\n",
        "    for i in range(1, num + 1):\n",
        "        if num % i == 0:\n",
        "            print(i, end=\" \")\n",
        "\n",
        "def main():\n",
        "    num = int(input(\"Enter a number: \"))\n",
        "    print_divisors(num)\n",
        "\n",
        "if __name__ == '__main__':\n",
        "    main()\n"
      ],
      "metadata": {
        "colab": {
          "base_uri": "https://localhost:8080/"
        },
        "id": "RmjUgrGqXGUf",
        "outputId": "55e2dc96-bf35-4750-8908-bfc022a3b7cf"
      },
      "execution_count": 8,
      "outputs": [
        {
          "output_type": "stream",
          "name": "stdout",
          "text": [
            "Enter a number: 12\n",
            "Here are the divisors of 12\n",
            "1 2 3 4 6 12 "
          ]
        }
      ]
    },
    {
      "cell_type": "code",
      "source": [
        "def print_multiple(message: str, repeats: int):\n",
        "    \"\"\"\n",
        "    Function 1 message ko specified number of times print karega.\n",
        "    \"\"\"\n",
        "    for i in range(repeats):\n",
        "        print(message)\n",
        "\n",
        "def main():\n",
        "    message = input(\"Please type a message: \")\n",
        "    repeats = int(input(\"Enter a number of times to repeat your message: \"))\n",
        "    print_multiple(message, repeats)\n",
        "\n",
        "if __name__ == '__main__':\n",
        "    main()\n"
      ],
      "metadata": {
        "colab": {
          "base_uri": "https://localhost:8080/"
        },
        "id": "Pzu4S89lXiIj",
        "outputId": "e2cb0b42-5615-4ea3-8ae1-e13575c7bc0f"
      },
      "execution_count": 9,
      "outputs": [
        {
          "output_type": "stream",
          "name": "stdout",
          "text": [
            "Please type a message: Sumiii\n",
            "Enter a number of times to repeat your message: 7\n",
            "Sumiii\n",
            "Sumiii\n",
            "Sumiii\n",
            "Sumiii\n",
            "Sumiii\n",
            "Sumiii\n",
            "Sumiii\n"
          ]
        }
      ]
    },
    {
      "cell_type": "code",
      "source": [
        "def make_sentence(word, part_of_speech):\n",
        "    \"\"\"\n",
        "    Function user ky input ky mutabiq 1 sentence generate karega.\n",
        "    \"\"\"\n",
        "    if part_of_speech == 0:\n",
        "        # Noun\n",
        "        print(f\"I am excited to add this {word} to my vast collection of them!\")\n",
        "    elif part_of_speech == 1:\n",
        "        # Verb\n",
        "        print(f\"It's so nice outside today it makes me want to {word}!\")\n",
        "    elif part_of_speech == 2:\n",
        "        # Adjective\n",
        "        print(f\"Looking out my window, the sky is big and {word}!\")\n",
        "    else:\n",
        "        # Invalid input\n",
        "        print(\"Part of speech must be 0, 1, or 2! Can't make a sentence.\")\n",
        "\n",
        "def main():\n",
        "    word = input(\"Please type a noun, verb, or adjective: \")\n",
        "    print(\"Is this a noun, verb, or adjective?\")\n",
        "    part_of_speech = int(input(\"Type 0 for noun, 1 for verb, 2 for adjective: \"))\n",
        "    make_sentence(word, part_of_speech)\n",
        "\n",
        "if __name__ == '__main__':\n",
        "    main()\n"
      ],
      "metadata": {
        "colab": {
          "base_uri": "https://localhost:8080/"
        },
        "id": "CGQk5PEAX-IV",
        "outputId": "68636e18-1584-4649-dc61-b64a107bc78b"
      },
      "execution_count": 10,
      "outputs": [
        {
          "output_type": "stream",
          "name": "stdout",
          "text": [
            "Please type a noun, verb, or adjective: verb\n",
            "Is this a noun, verb, or adjective?\n",
            "Type 0 for noun, 1 for verb, 2 for adjective: 2\n",
            "Looking out my window, the sky is big and verb!\n"
          ]
        }
      ]
    },
    {
      "cell_type": "code",
      "source": [
        "def print_ones_digit(num):\n",
        "    \"\"\"\n",
        "    Function num ka ones digit print karega.\n",
        "    \"\"\"\n",
        "    print(\"The ones digit is\", num % 10)\n",
        "\n",
        "def main():\n",
        "    num = int(input(\"Enter a number: \"))\n",
        "    print_ones_digit(num)\n",
        "\n",
        "if __name__ == '__main__':\n",
        "    main()\n"
      ],
      "metadata": {
        "colab": {
          "base_uri": "https://localhost:8080/"
        },
        "id": "BGyXdT3YYqxK",
        "outputId": "17ca995c-744f-46fd-c2d9-519e2e6d8d8e"
      },
      "execution_count": 13,
      "outputs": [
        {
          "output_type": "stream",
          "name": "stdout",
          "text": [
            "Enter a number: 37\n",
            "The ones digit is 7\n"
          ]
        }
      ]
    }
  ]
}