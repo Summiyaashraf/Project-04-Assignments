{
  "nbformat": 4,
  "nbformat_minor": 0,
  "metadata": {
    "colab": {
      "provenance": [],
      "authorship_tag": "ABX9TyN1OGZ7wJtHatFWv/duKopx",
      "include_colab_link": true
    },
    "kernelspec": {
      "name": "python3",
      "display_name": "Python 3"
    },
    "language_info": {
      "name": "python"
    }
  },
  "cells": [
    {
      "cell_type": "markdown",
      "metadata": {
        "id": "view-in-github",
        "colab_type": "text"
      },
      "source": [
        "<a href=\"https://colab.research.google.com/github/Summiyaashraf/Project-04-Assignments/blob/main/05_loops_control_flow.ipynb\" target=\"_parent\"><img src=\"https://colab.research.google.com/assets/colab-badge.svg\" alt=\"Open In Colab\"/></a>"
      ]
    },
    {
      "cell_type": "code",
      "execution_count": 3,
      "metadata": {
        "colab": {
          "base_uri": "https://localhost:8080/"
        },
        "id": "uw88eL1aIpMa",
        "outputId": "b9f1d634-2603-4e9a-d06f-a055edb50142"
      },
      "outputs": [
        {
          "output_type": "stream",
          "name": "stdout",
          "text": [
            "I am thinking of a number between 1 and 99...\n",
            "Enter a guess: 10\n",
            "Your guess is too low\n",
            "Enter a new guess: 70\n",
            "Your guess is too high\n",
            "Enter a new guess: 50\n",
            "Your guess is too low\n",
            "Enter a new guess: 90\n",
            "Your guess is too high\n",
            "Enter a new guess: 40\n",
            "Your guess is too low\n",
            "Enter a new guess: 31\n",
            "Your guess is too low\n",
            "Enter a new guess: 90\n",
            "Your guess is too high\n",
            "Enter a new guess: 99\n",
            "Your guess is too high\n",
            "Enter a new guess: 21\n",
            "Your guess is too low\n",
            "Enter a new guess: 1\n",
            "Your guess is too low\n",
            "Enter a new guess: 45\n",
            "Your guess is too low\n",
            "Enter a new guess: 44\n",
            "Your guess is too low\n",
            "Enter a new guess: 46\n",
            "Your guess is too low\n",
            "Enter a new guess: 15\n",
            "Your guess is too low\n",
            "Enter a new guess: 17\n",
            "Your guess is too low\n",
            "Enter a new guess: 2\n",
            "Your guess is too low\n",
            "Enter a new guess: 3\n",
            "Your guess is too low\n",
            "Enter a new guess: 59\n",
            "Your guess is too low\n",
            "Enter a new guess: 69\n",
            "Congrats! The number was: 69\n"
          ]
        }
      ],
      "source": [
        "import random\n",
        "\n",
        "def main():\n",
        "    secret_number = random.randint(1, 99)\n",
        "\n",
        "    print(\"I am thinking of a number between 1 and 99...\")\n",
        "    guess = int(input(\"Enter a guess: \"))\n",
        "\n",
        "    while guess != secret_number:\n",
        "        if guess < secret_number:\n",
        "            print(\"Your guess is too low\")\n",
        "        else:\n",
        "            print(\"Your guess is too high\")\n",
        "\n",
        "        guess = int(input(\"Enter a new guess: \"))\n",
        "\n",
        "    print(f\"Congrats! The number was: {secret_number}\")\n",
        "\n",
        "if __name__ == '__main__':\n",
        "    main()\n"
      ]
    },
    {
      "cell_type": "code",
      "source": [
        "MAX_TERM_VALUE = 10000\n",
        "\n",
        "def main():\n",
        "    curr_term = 0\n",
        "    next_term = 1\n",
        "\n",
        "    while curr_term <= MAX_TERM_VALUE:\n",
        "        print(curr_term, end=\" \")\n",
        "\n",
        "        term_after_next = curr_term + next_term\n",
        "        curr_term = next_term\n",
        "        next_term = term_after_next\n",
        "\n",
        "if __name__ == '__main__':\n",
        "    main()\n"
      ],
      "metadata": {
        "colab": {
          "base_uri": "https://localhost:8080/"
        },
        "id": "wCnt5XdUKj9F",
        "outputId": "f4d9b0c9-fe91-45d6-e09b-02db58b100fb"
      },
      "execution_count": 4,
      "outputs": [
        {
          "output_type": "stream",
          "name": "stdout",
          "text": [
            "0 1 1 2 3 5 8 13 21 34 55 89 144 233 377 610 987 1597 2584 4181 6765 "
          ]
        }
      ]
    },
    {
      "cell_type": "code",
      "source": [
        "def main():\n",
        "\n",
        "    for i in range(20):\n",
        "        print(i * 2, end=\" \")\n",
        "\n",
        "if __name__ == \"__main__\":\n",
        "    main()\n"
      ],
      "metadata": {
        "colab": {
          "base_uri": "https://localhost:8080/"
        },
        "id": "sUKKhW7CNS88",
        "outputId": "d3f6911e-a0e0-432b-e092-ec94fdf3b596"
      },
      "execution_count": 5,
      "outputs": [
        {
          "output_type": "stream",
          "name": "stdout",
          "text": [
            "0 2 4 6 8 10 12 14 16 18 20 22 24 26 28 30 32 34 36 38 "
          ]
        }
      ]
    },
    {
      "cell_type": "code",
      "source": [
        "AFFIRMATION = \"I am capable of doing anything I put my mind to.\"\n",
        "\n",
        "def main():\n",
        "    print(\"Please type the following affirmation: \" + AFFIRMATION)\n",
        "\n",
        "    while True:\n",
        "        user_feedback = input()\n",
        "        if user_feedback == AFFIRMATION:\n",
        "            print(\"That's right! :)\")\n",
        "            break\n",
        "        else:\n",
        "            print(\"That was not the affirmation.\")\n",
        "            print(\"Please type the following affirmation: \" + AFFIRMATION)\n",
        "\n",
        "if __name__ == '__main__':\n",
        "    main()\n"
      ],
      "metadata": {
        "colab": {
          "base_uri": "https://localhost:8080/"
        },
        "id": "KvnIZr2dNbrB",
        "outputId": "04ed55c5-453e-4028-e17d-01277dfabfd6"
      },
      "execution_count": 6,
      "outputs": [
        {
          "output_type": "stream",
          "name": "stdout",
          "text": [
            "Please type the following affirmation: I am capable of doing anything I put my mind to.\n",
            "I can do this\n",
            "That was not the affirmation.\n",
            "Please type the following affirmation: I am capable of doing anything I put my mind to.\n",
            "I am capable of doing anything I put my mind to.\n",
            "That's right! :)\n"
          ]
        }
      ]
    },
    {
      "cell_type": "code",
      "source": [
        "def main():\n",
        "    for i in range(10, 0, -1):\n",
        "        print(i, end=\" \")\n",
        "    print(\"Liftoff!\")\n",
        "\n",
        "if __name__ == '__main__':\n",
        "    main()\n"
      ],
      "metadata": {
        "colab": {
          "base_uri": "https://localhost:8080/"
        },
        "id": "K2TPXWl2RDlK",
        "outputId": "b5c9e10a-60a3-41b2-8018-f3dd51488167"
      },
      "execution_count": 7,
      "outputs": [
        {
          "output_type": "stream",
          "name": "stdout",
          "text": [
            "10 9 8 7 6 5 4 3 2 1 Liftoff!\n"
          ]
        }
      ]
    },
    {
      "cell_type": "code",
      "source": [
        "def main():\n",
        "    curr_value = int(input(\"Enter a number: \"))\n",
        "    while curr_value < 100:\n",
        "        curr_value *= 2\n",
        "        print(curr_value, end=\" \")\n",
        "\n",
        "if __name__ == '__main__':\n",
        "    main()\n"
      ],
      "metadata": {
        "colab": {
          "base_uri": "https://localhost:8080/"
        },
        "id": "mrsprbpORVct",
        "outputId": "f4bdc3b0-483f-460e-921e-fcfca53a1dfb"
      },
      "execution_count": 8,
      "outputs": [
        {
          "output_type": "stream",
          "name": "stdout",
          "text": [
            "Enter a number: 7\n",
            "14 28 56 112 "
          ]
        }
      ]
    }
  ]
}