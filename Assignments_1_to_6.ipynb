{
  "nbformat": 4,
  "nbformat_minor": 0,
  "metadata": {
    "colab": {
      "provenance": [],
      "authorship_tag": "ABX9TyMjTNJkm5Z0DtzrEKPMSOSh",
      "include_colab_link": true
    },
    "kernelspec": {
      "name": "python3",
      "display_name": "Python 3"
    },
    "language_info": {
      "name": "python"
    }
  },
  "cells": [
    {
      "cell_type": "markdown",
      "metadata": {
        "id": "view-in-github",
        "colab_type": "text"
      },
      "source": [
        "<a href=\"https://colab.research.google.com/github/Summiyaashraf/Project-04-Assignments/blob/main/Assignments_1_to_6.ipynb\" target=\"_parent\"><img src=\"https://colab.research.google.com/assets/colab-badge.svg\" alt=\"Open In Colab\"/></a>"
      ]
    },
    {
      "cell_type": "code",
      "execution_count": 1,
      "metadata": {
        "colab": {
          "base_uri": "https://localhost:8080/"
        },
        "id": "rGViJlICXaXP",
        "outputId": "fdd948e1-81ab-46f5-8d1c-43b948f3d5d7"
      },
      "outputs": [
        {
          "output_type": "stream",
          "name": "stdout",
          "text": [
            "Enter a name: Summiya\n",
            "Enter a place: Karachi\n",
            "Enter an adjective: Beautiful\n",
            "Enter a favorite food: Biryani\n",
            "Enter a verb: Yummy\n",
            "\n",
            "✨ Your Mad Libs Story ✨\n",
            "\n",
            "Once upon a time, Summiya went to Karachi. It was a very Beautiful place.\n",
            "There, Summiya found a magical shop selling Biryani. \n",
            "Excited, Summiya decided to Yummy all day long. It was an unforgettable experience!\n",
            "\n"
          ]
        }
      ],
      "source": [
        "name = input(\"Enter a name: \")\n",
        "place = input(\"Enter a place: \")\n",
        "adjective = input(\"Enter an adjective: \")\n",
        "food = input(\"Enter a favorite food: \")\n",
        "verb = input(\"Enter a verb: \")\n",
        "\n",
        "# Story Template\n",
        "story = f\"\"\"\n",
        "Once upon a time, {name} went to {place}. It was a very {adjective} place.\n",
        "There, {name} found a magical shop selling {food}.\n",
        "Excited, {name} decided to {verb} all day long. It was an unforgettable experience!\n",
        "\"\"\"\n",
        "print(\"\\n✨ Your Mad Libs Story ✨\")\n",
        "print(story)\n"
      ]
    },
    {
      "cell_type": "code",
      "source": [
        "import random\n",
        "\n",
        "secret_number = random.randint(1, 100)\n",
        "\n",
        "print(\"🎯 Welcome to 'Guess the Number' game!\")\n",
        "print(\"I have chosen a number between 1 and 100. Can you guess it?\")\n",
        "\n",
        "attempts = 0\n",
        "while True:\n",
        "    guess = int(input(\"Enter your guess: \"))\n",
        "    attempts += 1\n",
        "\n",
        "    if guess < secret_number:\n",
        "        print(\"Too low! Try again. ⬆️\")\n",
        "    elif guess > secret_number:\n",
        "        print(\"Too high! Try again. ⬇️\")\n",
        "    else:\n",
        "        print(f\"🎉 Congratulations! You guessed the number in {attempts} attempts.\")\n",
        "        break\n"
      ],
      "metadata": {
        "colab": {
          "base_uri": "https://localhost:8080/"
        },
        "id": "wBBZVo-zZELh",
        "outputId": "69bc5ce4-d575-4e46-ede7-2f8144a43b8c"
      },
      "execution_count": 2,
      "outputs": [
        {
          "output_type": "stream",
          "name": "stdout",
          "text": [
            "🎯 Welcome to 'Guess the Number' game!\n",
            "I have chosen a number between 1 and 100. Can you guess it?\n",
            "Enter your guess: 15\n",
            "Too high! Try again. ⬇️\n",
            "Enter your guess: 10\n",
            "Too low! Try again. ⬆️\n",
            "Enter your guess: 13\n",
            "Too high! Try again. ⬇️\n",
            "Enter your guess: 11\n",
            "Too low! Try again. ⬆️\n",
            "Enter your guess: 12\n",
            "🎉 Congratulations! You guessed the number in 5 attempts.\n"
          ]
        }
      ]
    },
    {
      "cell_type": "code",
      "source": [
        "\n",
        "\n",
        "\n",
        "\n",
        "\n",
        "\n",
        "\n",
        "\n",
        "\n",
        "\n",
        "\n",
        "\n",
        "\n",
        "\n",
        "\n",
        "\n",
        "\n",
        "\n",
        "\n",
        "\n",
        "\n",
        "\n",
        "\n",
        "\n",
        "\n",
        "\n",
        "\n",
        "import random\n",
        "\n",
        "def computer_guess(x):\n",
        "    low = 1\n",
        "    high = x\n",
        "    attempts = 0\n",
        "    feedback = \"\"\n",
        "\n",
        "    print(\"🤖 Think of a number between 1 and\", x, \"and let the computer guess it!\")\n",
        "\n",
        "    while feedback != \"c\":\n",
        "        attempts += 1\n",
        "        if low != high:\n",
        "            guess = random.randint(low, high)\n",
        "        else:\n",
        "            guess = low\n",
        "\n",
        "        feedback = input(f\"Is {guess} too high (H), too low (L), or correct (C)? \").lower()\n",
        "\n",
        "        if feedback == \"h\":\n",
        "            high = guess - 1\n",
        "        elif feedback == \"l\":\n",
        "            low = guess + 1\n",
        "\n",
        "    print(f\"🎉 Yay! The computer guessed your number {guess} in {attempts} attempts!\")\n",
        "\n",
        "computer_guess(100)\n"
      ],
      "metadata": {
        "colab": {
          "base_uri": "https://localhost:8080/"
        },
        "id": "DgV-ykwtaTql",
        "outputId": "62699e86-3f69-488f-f03d-d611a3b1d80e"
      },
      "execution_count": 7,
      "outputs": [
        {
          "output_type": "stream",
          "name": "stdout",
          "text": [
            "🤖 Think of a number between 1 and 100 and let the computer guess it!\n",
            "Is 15 too high (H), too low (L), or correct (C)? L\n",
            "Is 69 too high (H), too low (L), or correct (C)? H\n",
            "Is 26 too high (H), too low (L), or correct (C)? L\n",
            "Is 65 too high (H), too low (L), or correct (C)? H\n",
            "Is 40 too high (H), too low (L), or correct (C)? L\n",
            "Is 63 too high (H), too low (L), or correct (C)? H\n",
            "Is 50 too high (H), too low (L), or correct (C)? C\n",
            "🎉 Yay! The computer guessed your number 50 in 7 attempts!\n"
          ]
        }
      ]
    },
    {
      "cell_type": "code",
      "source": [
        "import random\n",
        "\n",
        "def play():\n",
        "    user = input(\"🎮 Choose Rock (r), Paper (p), or Scissors (s): \").lower()\n",
        "    computer = random.choice([\"r\", \"p\", \"s\"])\n",
        "\n",
        "    print(f\"🤖 Computer chose: {computer}\")\n",
        "\n",
        "    if user == computer:\n",
        "        return \"😐 It's a tie!\"\n",
        "\n",
        "    if is_win(user, computer):\n",
        "        return \"🎉 You win!\"\n",
        "\n",
        "    return \"💀 You lose!\"\n",
        "\n",
        "def is_win(player, opponent):\n",
        "    # r > s, s > p, p > r (Winning Conditions)\n",
        "    if (player == \"r\" and opponent == \"s\") or \\\n",
        "       (player == \"s\" and opponent == \"p\") or \\\n",
        "       (player == \"p\" and opponent == \"r\"):\n",
        "        return True\n",
        "    return False\n",
        "\n",
        "print(play())\n"
      ],
      "metadata": {
        "colab": {
          "base_uri": "https://localhost:8080/"
        },
        "id": "bVM0dTf9b9S1",
        "outputId": "1037235c-177f-4bd8-d95a-bfa9b58446f9"
      },
      "execution_count": 11,
      "outputs": [
        {
          "output_type": "stream",
          "name": "stdout",
          "text": [
            "🎮 Choose Rock (r), Paper (p), or Scissors (s): p\n",
            "🤖 Computer chose: p\n",
            "😐 It's a tie!\n"
          ]
        }
      ]
    },
    {
      "cell_type": "code",
      "source": [
        "import random\n",
        "\n",
        "words = [\"python\", \"hangman\", \"developer\", \"coding\", \"programming\"]\n",
        "\n",
        "def get_word():\n",
        "    return random.choice(words).lower()\n",
        "\n",
        "def hangman():\n",
        "    word = get_word()\n",
        "    guessed_letters = set()\n",
        "    attempts = 6\n",
        "    word_display = [\"_\"] * len(word)\n",
        "\n",
        "    print(\"🎭 Welcome to Hangman!\")\n",
        "\n",
        "    while attempts > 0 and \"_\" in word_display:\n",
        "        print(\"\\nWord: \", \" \".join(word_display))\n",
        "        guess = input(\"🔠 Guess a letter: \").lower()\n",
        "\n",
        "        if guess in guessed_letters:\n",
        "            print(\"⚠️ You already guessed that letter.\")\n",
        "            continue\n",
        "\n",
        "        guessed_letters.add(guess)\n",
        "\n",
        "        if guess in word:\n",
        "            print(\"✅ Correct guess!\")\n",
        "            for i in range(len(word)):\n",
        "                if word[i] == guess:\n",
        "                    word_display[i] = guess\n",
        "        else:\n",
        "            print(\"❌ Wrong guess! You lose a life.\")\n",
        "            attempts -= 1\n",
        "\n",
        "        print(f\"❤️ Remaining attempts: {attempts}\")\n",
        "\n",
        "    if \"_\" not in word_display:\n",
        "        print(f\"🎉 Congratulations! You guessed the word: {word}\")\n",
        "    else:\n",
        "        print(f\"💀 Game Over! The word was: {word}\")\n",
        "\n",
        "hangman()\n"
      ],
      "metadata": {
        "colab": {
          "base_uri": "https://localhost:8080/"
        },
        "id": "eNyT5DJFegjg",
        "outputId": "6289d614-3bcc-44a3-db1c-f9216b67d1ec"
      },
      "execution_count": 16,
      "outputs": [
        {
          "output_type": "stream",
          "name": "stdout",
          "text": [
            "🎭 Welcome to Hangman!\n",
            "\n",
            "Word:  _ _ _ _ _ _ _ _ _ _ _\n",
            "🔠 Guess a letter: e\n",
            "❌ Wrong guess! You lose a life.\n",
            "❤️ Remaining attempts: 5\n",
            "\n",
            "Word:  _ _ _ _ _ _ _ _ _ _ _\n",
            "🔠 Guess a letter: a\n",
            "✅ Correct guess!\n",
            "❤️ Remaining attempts: 5\n",
            "\n",
            "Word:  _ _ _ _ _ a _ _ _ _ _\n",
            "🔠 Guess a letter: m\n",
            "✅ Correct guess!\n",
            "❤️ Remaining attempts: 5\n",
            "\n",
            "Word:  _ _ _ _ _ a m m _ _ _\n",
            "🔠 Guess a letter: i\n",
            "✅ Correct guess!\n",
            "❤️ Remaining attempts: 5\n",
            "\n",
            "Word:  _ _ _ _ _ a m m i _ _\n",
            "🔠 Guess a letter: l\n",
            "❌ Wrong guess! You lose a life.\n",
            "❤️ Remaining attempts: 4\n",
            "\n",
            "Word:  _ _ _ _ _ a m m i _ _\n",
            "🔠 Guess a letter: d\n",
            "❌ Wrong guess! You lose a life.\n",
            "❤️ Remaining attempts: 3\n",
            "\n",
            "Word:  _ _ _ _ _ a m m i _ _\n",
            "🔠 Guess a letter: n\n",
            "✅ Correct guess!\n",
            "❤️ Remaining attempts: 3\n",
            "\n",
            "Word:  _ _ _ _ _ a m m i n _\n",
            "🔠 Guess a letter: p\n",
            "✅ Correct guess!\n",
            "❤️ Remaining attempts: 3\n",
            "\n",
            "Word:  p _ _ _ _ a m m i n _\n",
            "🔠 Guess a letter: r\n",
            "✅ Correct guess!\n",
            "❤️ Remaining attempts: 3\n",
            "\n",
            "Word:  p r _ _ r a m m i n _\n",
            "🔠 Guess a letter: o\n",
            "✅ Correct guess!\n",
            "❤️ Remaining attempts: 3\n",
            "\n",
            "Word:  p r o _ r a m m i n _\n",
            "🔠 Guess a letter: b\n",
            "❌ Wrong guess! You lose a life.\n",
            "❤️ Remaining attempts: 2\n",
            "\n",
            "Word:  p r o _ r a m m i n _\n",
            "🔠 Guess a letter: g\n",
            "✅ Correct guess!\n",
            "❤️ Remaining attempts: 2\n",
            "🎉 Congratulations! You guessed the word: programming\n"
          ]
        }
      ]
    },
    {
      "cell_type": "code",
      "source": [
        "import time\n",
        "\n",
        "def countdown_timer(seconds):\n",
        "    while seconds:\n",
        "        mins, secs = divmod(seconds, 60)\n",
        "        timer = f\"{mins:02d}:{secs:02d}\"\n",
        "        print(timer, end=\"\\r\")\n",
        "        time.sleep(1)\n",
        "        seconds -= 1\n",
        "\n",
        "    print(\"⏰ Time's up!\")\n",
        "\n",
        "seconds = int(input(\"Enter time in seconds: \"))\n",
        "countdown_timer(seconds)\n"
      ],
      "metadata": {
        "colab": {
          "base_uri": "https://localhost:8080/"
        },
        "id": "He7bWMptgqOA",
        "outputId": "f9a6449e-4bbf-48ce-93a2-a4c930d62011"
      },
      "execution_count": 19,
      "outputs": [
        {
          "output_type": "stream",
          "name": "stdout",
          "text": [
            "Enter time in seconds: 20\n",
            "⏰ Time's up!\n"
          ]
        }
      ]
    },
    {
      "cell_type": "code",
      "source": [
        "import random\n",
        "import string\n",
        "\n",
        "def generate_password(length):\n",
        "    characters = string.ascii_letters + string.digits + string.punctuation\n",
        "    password = ''.join(random.choice(characters) for _ in range(length))\n",
        "    return password\n",
        "\n",
        "num_passwords = int(input(\"Enter the number of passwords you want to generate: \"))\n",
        "length = int(input(\"Enter the length of each password: \"))\n",
        "\n",
        "print(\"\\nGenerated Passwords:\")\n",
        "for _ in range(num_passwords):\n",
        "    print(generate_password(length))\n"
      ],
      "metadata": {
        "colab": {
          "base_uri": "https://localhost:8080/"
        },
        "id": "_Sx-Yvy7heWG",
        "outputId": "85b46f27-92bb-49fc-a170-b65138fbc187"
      },
      "execution_count": 20,
      "outputs": [
        {
          "output_type": "stream",
          "name": "stdout",
          "text": [
            "Enter the number of passwords you want to generate: 5\n",
            "Enter the length of each password: 20\n",
            "\n",
            "Generated Passwords:\n",
            "t4`*+qpdFj*3'x~X{HLg\n",
            "0p;HD-[TS%s\"mdo{E.V@\n",
            "&y=|U7c0]L)(|zDG(i~,\n",
            "$\"U2M'VMO7X}kby2mg=J\n",
            "\"-1l5lhmt8W3V^5E::{\\\n"
          ]
        }
      ]
    }
  ]
}